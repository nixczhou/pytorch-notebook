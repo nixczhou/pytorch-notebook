{
  "nbformat": 4,
  "nbformat_minor": 0,
  "metadata": {
    "colab": {
      "name": "Numpy Advanced tricks for large dataset - Session.ipynb",
      "provenance": [],
      "collapsed_sections": [],
      "machine_shape": "hm"
    },
    "kernelspec": {
      "name": "python3",
      "display_name": "Python 3"
    }
  },
  "cells": [
    {
      "cell_type": "markdown",
      "metadata": {
        "id": "Hd7nbu7pxrbY"
      },
      "source": [
        "Watch on youtube : https://youtu.be/1NfIZD1xBxQ"
      ]
    },
    {
      "cell_type": "markdown",
      "metadata": {
        "id": "TXaioJo8zUTx"
      },
      "source": [
        "# Numpy Tricks while dealing with large dataset"
      ]
    },
    {
      "cell_type": "code",
      "metadata": {
        "id": "anwFeDp6i3RS"
      },
      "source": [
        "#Import the libraries\n",
        "import numpy as np\n",
        "import time"
      ],
      "execution_count": null,
      "outputs": []
    },
    {
      "cell_type": "markdown",
      "metadata": {
        "id": "1AYzbt4FDKv0"
      },
      "source": [
        "## Tip 1 : Dont iterate over each entry , instead create an array of requried shape"
      ]
    },
    {
      "cell_type": "code",
      "metadata": {
        "id": "tvHDjDw7zOIV",
        "colab": {
          "base_uri": "https://localhost:8080/",
          "height": 35
        },
        "outputId": "e78f1c2a-024a-4c63-cdab-4a588b239614"
      },
      "source": [
        "start_time = time.time()\n",
        "\n",
        "epochs = range(1000000)\n",
        "result_array = np.empty((0)) \n",
        "\n",
        "for e in epochs:\n",
        "  value = e * 5 \n",
        "  np.append(result_array, [value])\n",
        "    \n",
        "elapsed_time = time.time() - start_time\n",
        "elapsed_time"
      ],
      "execution_count": null,
      "outputs": [
        {
          "output_type": "execute_result",
          "data": {
            "text/plain": [
              "5.848477125167847"
            ]
          },
          "metadata": {
            "tags": []
          },
          "execution_count": 3
        }
      ]
    },
    {
      "cell_type": "code",
      "metadata": {
        "id": "ziBQ0od4z7O1",
        "colab": {
          "base_uri": "https://localhost:8080/",
          "height": 35
        },
        "outputId": "9868d44e-20c0-4b74-f164-9d818665e0d9"
      },
      "source": [
        "start_time = time.time()\n",
        "\n",
        "epochs = range(1000000) \n",
        "result_array = np.zeros((len(epochs),)) \n",
        "\n",
        "for index, e in enumerate(epochs):\n",
        "  value = e * 5 # do something\n",
        "  result_array[index] = value\n",
        "    \n",
        "elapsed_time = time.time() - start_time\n",
        "elapsed_time"
      ],
      "execution_count": null,
      "outputs": [
        {
          "output_type": "execute_result",
          "data": {
            "text/plain": [
              "0.29676342010498047"
            ]
          },
          "metadata": {
            "tags": []
          },
          "execution_count": 4
        }
      ]
    },
    {
      "cell_type": "markdown",
      "metadata": {
        "id": "LzBW-fmNDdOF"
      },
      "source": [
        "## Tip 2: Avoid using RAM for Large Arrays - instead use Disk for storage"
      ]
    },
    {
      "cell_type": "code",
      "metadata": {
        "id": "S41RH9JY0Nwt"
      },
      "source": [
        "results = np.ones((600,600,600,6))\n",
        "results[2,4,5,1] = 100"
      ],
      "execution_count": null,
      "outputs": []
    },
    {
      "cell_type": "code",
      "metadata": {
        "id": "6UUXG7ZjgML5"
      },
      "source": [
        "import h5py\n",
        "\n",
        "hdf5_store = h5py.File(\"./cache.hdf5\", \"a\")\n",
        "results = hdf5_store.create_dataset(\"results\", (600,600,600,6), compression=\"gzip\")\n",
        "# do something...\n",
        "results[2,4,5,1] = 100"
      ],
      "execution_count": null,
      "outputs": []
    },
    {
      "cell_type": "markdown",
      "metadata": {
        "id": "45sEn84zD6lu"
      },
      "source": [
        "## Tip 3 : Dont Access Array more than necessary"
      ]
    },
    {
      "cell_type": "code",
      "metadata": {
        "id": "yZg-gwlin0Np"
      },
      "source": [
        "import numpy as np\n",
        "import time"
      ],
      "execution_count": null,
      "outputs": []
    },
    {
      "cell_type": "code",
      "metadata": {
        "id": "nynkSDjckZ5P",
        "colab": {
          "base_uri": "https://localhost:8080/",
          "height": 35
        },
        "outputId": "a6650cb4-2f75-41df-c64a-cec682f77297"
      },
      "source": [
        "start = time.time()\n",
        "\n",
        "ex_array = np.ones((200, 200, 200))\n",
        "\n",
        "for _ in range(100000000):\n",
        "    ex_array[50, 50, 100]\n",
        "\n",
        "runtime = time.time() - start\n",
        "runtime"
      ],
      "execution_count": null,
      "outputs": [
        {
          "output_type": "execute_result",
          "data": {
            "text/plain": [
              "20.55499792098999"
            ]
          },
          "metadata": {
            "tags": []
          },
          "execution_count": 3
        }
      ]
    },
    {
      "cell_type": "code",
      "metadata": {
        "id": "gEPMRGHPlBqY",
        "colab": {
          "base_uri": "https://localhost:8080/",
          "height": 35
        },
        "outputId": "162bb91b-6a33-416a-d344-39fcb8316459"
      },
      "source": [
        "start = time.time()\n",
        "\n",
        "ex_array = np.ones((200, 200, 200))\n",
        "\n",
        "x = ex_array[50, 50, 100] \n",
        "\n",
        "for _ in range(100000000):\n",
        "    x\n",
        "    \n",
        "runtime = time.time() - start\n",
        "runtime"
      ],
      "execution_count": null,
      "outputs": [
        {
          "output_type": "execute_result",
          "data": {
            "text/plain": [
              "5.534504652023315"
            ]
          },
          "metadata": {
            "tags": []
          },
          "execution_count": 4
        }
      ]
    },
    {
      "cell_type": "markdown",
      "metadata": {
        "id": "sDrD1as_EJtR"
      },
      "source": [
        "## Tip 4 : Returning Index Location of an element - `np.where()`"
      ]
    },
    {
      "cell_type": "code",
      "metadata": {
        "id": "DRjwMjNdCtlS",
        "colab": {
          "base_uri": "https://localhost:8080/",
          "height": 35
        },
        "outputId": "d08e8d1d-71e8-4c93-e0f1-c3c5919b06e5"
      },
      "source": [
        "arr_x = np.array([6, 6, 3, 5, 5, 0, 3, 2, 5, 1])\n",
        "new_index = np.where(arr_x > 3)\n",
        "print(\"The index of arrays where value > 3 is \", new_index)"
      ],
      "execution_count": null,
      "outputs": [
        {
          "output_type": "stream",
          "text": [
            "The index of arrays where value > 3 is  (array([0, 1, 3, 4, 8]),)\n"
          ],
          "name": "stdout"
        }
      ]
    },
    {
      "cell_type": "code",
      "metadata": {
        "id": "VLcNlC2rDIHe",
        "colab": {
          "base_uri": "https://localhost:8080/",
          "height": 35
        },
        "outputId": "fc6d7d2f-2418-410a-be7e-de3aef357d9c"
      },
      "source": [
        "arr_x.take(new_index)"
      ],
      "execution_count": null,
      "outputs": [
        {
          "output_type": "execute_result",
          "data": {
            "text/plain": [
              "array([[6, 6, 5, 5, 5]])"
            ]
          },
          "metadata": {
            "tags": []
          },
          "execution_count": 6
        }
      ]
    },
    {
      "cell_type": "code",
      "metadata": {
        "id": "GP_uR15YDbhf",
        "colab": {
          "base_uri": "https://localhost:8080/",
          "height": 69
        },
        "outputId": "58a580b5-87cc-4c51-a4cb-92a9e73e3267"
      },
      "source": [
        "np.where(arr_x > 3, 'greater than 3', 'less than 3')"
      ],
      "execution_count": null,
      "outputs": [
        {
          "output_type": "execute_result",
          "data": {
            "text/plain": [
              "array(['greater than 3', 'greater than 3', 'less than 3',\n",
              "       'greater than 3', 'greater than 3', 'less than 3', 'less than 3',\n",
              "       'less than 3', 'greater than 3', 'less than 3'], dtype='<U14')"
            ]
          },
          "metadata": {
            "tags": []
          },
          "execution_count": 7
        }
      ]
    },
    {
      "cell_type": "code",
      "metadata": {
        "id": "inypGVi9DlYl",
        "colab": {
          "base_uri": "https://localhost:8080/",
          "height": 52
        },
        "outputId": "d85cc17c-802e-46c6-e44c-f081c0e18569"
      },
      "source": [
        "print('Index of max value: ', np.argmax(arr_x))  \n",
        "\n",
        "#in the same way, we can return the index position of minimumm value of an array by writing as:\n",
        "print('index of min value: ', np.argmin(arr_x))  "
      ],
      "execution_count": null,
      "outputs": [
        {
          "output_type": "stream",
          "text": [
            "Index of max value:  0\n",
            "index of min value:  5\n"
          ],
          "name": "stdout"
        }
      ]
    },
    {
      "cell_type": "markdown",
      "metadata": {
        "id": "smOabWz6E9yx"
      },
      "source": [
        "## Tip 5 : Adding new Axis to a numpy array"
      ]
    },
    {
      "cell_type": "code",
      "metadata": {
        "id": "GALcJCAEGNsn",
        "colab": {
          "base_uri": "https://localhost:8080/",
          "height": 52
        },
        "outputId": "ee7581f6-71ff-4f93-bb3e-9336e8c52657"
      },
      "source": [
        "x = np.arange(10)\n",
        "print(x)\n",
        "print(x.shape)"
      ],
      "execution_count": null,
      "outputs": [
        {
          "output_type": "stream",
          "text": [
            "[0 1 2 3 4 5 6 7 8 9]\n",
            "(10,)\n"
          ],
          "name": "stdout"
        }
      ]
    },
    {
      "cell_type": "code",
      "metadata": {
        "id": "ZOzC4E9GAmbs",
        "colab": {
          "base_uri": "https://localhost:8080/",
          "height": 364
        },
        "outputId": "42ca6d43-18e6-48d9-cf27-6e6b1e0434d5"
      },
      "source": [
        "x_col = x[:,np.newaxis,np.newaxis]\n",
        "print(\"shape of new array is:\",x_col.shape)\n",
        "print(x_col)"
      ],
      "execution_count": null,
      "outputs": [
        {
          "output_type": "stream",
          "text": [
            "shape of new array is: (10, 1, 1)\n",
            "[[[0]]\n",
            "\n",
            " [[1]]\n",
            "\n",
            " [[2]]\n",
            "\n",
            " [[3]]\n",
            "\n",
            " [[4]]\n",
            "\n",
            " [[5]]\n",
            "\n",
            " [[6]]\n",
            "\n",
            " [[7]]\n",
            "\n",
            " [[8]]\n",
            "\n",
            " [[9]]]\n"
          ],
          "name": "stdout"
        }
      ]
    },
    {
      "cell_type": "code",
      "metadata": {
        "id": "mRbteIldAiGf",
        "colab": {
          "base_uri": "https://localhost:8080/",
          "height": 52
        },
        "outputId": "49bfd02b-d77e-4e17-c4c5-29ef3e852ef7"
      },
      "source": [
        "x_row = x[np.newaxis,np.newaxis,:]\n",
        "print(\"shape of new array is:\",x_row.shape)\n",
        "print(x_row)"
      ],
      "execution_count": null,
      "outputs": [
        {
          "output_type": "stream",
          "text": [
            "shape of new array is: (1, 1, 10)\n",
            "[[[0 1 2 3 4 5 6 7 8 9]]]\n"
          ],
          "name": "stdout"
        }
      ]
    },
    {
      "cell_type": "code",
      "metadata": {
        "id": "9ACzjmYgBxUM"
      },
      "source": [
        ""
      ],
      "execution_count": null,
      "outputs": []
    },
    {
      "cell_type": "code",
      "metadata": {
        "id": "rnTK0HFDdmno"
      },
      "source": [
        ""
      ],
      "execution_count": null,
      "outputs": []
    }
  ]
}